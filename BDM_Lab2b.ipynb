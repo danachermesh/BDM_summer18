{
 "cells": [
  {
   "cell_type": "markdown",
   "metadata": {},
   "source": [
    "# Lab 2b\n",
    "\n",
    "This lab is for practicing Python’s <i>generators</i> and <i>streaming</i>. We’re going to use the Citibike dataset posted on NYU Classes.\n",
    "\n",
    "\n",
    "\n",
    "## Task 1\n",
    "\n",
    "Your task is to <b>compute the median age</b> of the Citibike’s <b>subscribed</b> customers, aka. usertype is \"Subscriber\". You are required to read data line by line and are not allowed to store the entire data set in memory. Indeed, you should not have any containers (e.g. list, dictionary, DataFrame, etc.) with more than a handful, e.g. strictly < 100, of elements in memory either as a local or a global variable. You can use the citibike.csv data file that we have on NYU Classes for testing, but we will evaluate your code on a much larger input to ensure it’s streaming capability.\n",
    "\n",
    "The code block below is taken mostly from our lab and would stream data from the citibike.csv for on-demand processing. The data file should be stored on the same folder with this notebook. You will need to replace the portion inside the for loop with your own code."
   ]
  },
  {
   "cell_type": "code",
   "execution_count": null,
   "metadata": {},
   "outputs": [],
   "source": [
    "import csv\n",
    "\n",
    "def csvRows(filename):\n",
    "    with open(filename, 'r') as fi:\n",
    "        reader = csv.DictReader(fi)\n",
    "        for row in reader:\n",
    "            yield row\n",
    "            \n",
    "### NOTE: You can initialize any global variables below,\n",
    "### but they should hold less than 100 elements.\n",
    "<YOUR CODE HERE>\n",
    "\n",
    "for row in csvRows('citibike.csv'):\n",
    "    ### NOTE: perform your streaming computation here. 'row' is a\n",
    "    ### tuple of values for the current record of the input file.\n",
    "    ### You should replace 'pass' below with your code.\n",
    "    <YOUR CODE HERE>\n",
    "\n",
    "### NOTE: You can do further processing to get the median age value\n",
    "###\n",
    "medianAge = 0\n",
    "<YOUR CODE HERE>\n",
    "\n",
    "###\n",
    "print medianAge"
   ]
  },
  {
   "cell_type": "markdown",
   "metadata": {},
   "source": [
    "## Task 2\n",
    "\n",
    "Your task is to write a generator to extract the first ride of the day from a Citibike data stream. The data stream is sorted based on starting times (similar to the <b>citibike.csv</b> file uploaded on NYU Classes). The first ride of the day is interpreted as the ride with the earliest starting time of a day. For the sample data, which is a week worth of citibike records, your generator should only generate 7 items (one for each day).\n",
    "\n",
    "You are given a template with the sample generator <b>firstRide</b>. The generator currently takes in <b>csv.DictReader</b> generator and output its first element. Please adjust this generator to output the first ride of the day for the entire stream as specified above. The output of the generator must be in the same format as csv.DictReader. You can think of this generator as a filter only passing certain records out. \\"
   ]
  },
  {
   "cell_type": "code",
   "execution_count": null,
   "metadata": {},
   "outputs": [],
   "source": [
    "import csv\n",
    "import datetime\n",
    "\n",
    "### NOTE: You need to change the body of the generator firstRide\n",
    "### in order to output trip record that appeared first in each day\n",
    "### using the same dict format as csv.DictReader.\n",
    "\n",
    "def firstRide(reader):\n",
    "    <YOUR CODE HERE>\n",
    "\n",
    "### NOTE: You SHOULD NOT modify the code below. If you\n",
    "### write your firstRide generator above correctly, the\n",
    "### code below will output the correct information\n",
    "\n",
    "with open('citibike.csv', 'r') as fi:\n",
    "    reader = csv.DictReader(fi)\n",
    "    for row in firstRide(reader):\n",
    "        print ','.join(map(row.get, reader.fieldnames))\n"
   ]
  }
 ],
 "metadata": {
  "kernelspec": {
   "display_name": "Python 2",
   "language": "python",
   "name": "python2"
  },
  "language_info": {
   "codemirror_mode": {
    "name": "ipython",
    "version": 2
   },
   "file_extension": ".py",
   "mimetype": "text/x-python",
   "name": "python",
   "nbconvert_exporter": "python",
   "pygments_lexer": "ipython2",
   "version": "2.7.13"
  }
 },
 "nbformat": 4,
 "nbformat_minor": 1
}
