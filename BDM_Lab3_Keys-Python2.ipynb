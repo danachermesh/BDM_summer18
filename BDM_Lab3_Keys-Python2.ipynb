{
 "cells": [
  {
   "cell_type": "markdown",
   "metadata": {},
   "source": [
    "# Lab 3\n",
    "\n",
    "In this lab, we will practice Python's higher order functions, in particular, map(), filter() and reduce().\n",
    "\n",
    "\n",
    "## Task 1\n",
    "\n",
    "You are provided a list of service status updates scraped from an MTA information website. Each update may indicate <i>Good Service</i>, <i>Planned Work</i>, or <i>Delays</i> for one or more subway lines. Our first objective is to list all the lines that are running with <i>Delays</i>. To guide you through the process, we split the problem into smaller tasks."
   ]
  },
  {
   "cell_type": "code",
   "execution_count": 1,
   "metadata": {},
   "outputs": [],
   "source": [
    "# This is your input data, a list of subway line status.\n",
    "# It is a list of string in a specific format\n",
    "\n",
    "status = [\n",
    "    '1,2,3 : Good Service',\n",
    "    '4,5,6 : Delays',\n",
    "    '7 : Good Service',\n",
    "    'A,C : Good Service',\n",
    "    'E : Planned Work',\n",
    "    'G : Delays',\n",
    "    'B,D,F,M : Good Service',\n",
    "    'J,Z : Delays',\n",
    "    'L : Good Service',\n",
    "    'N,Q,R : Planned Work',\n",
    "    'S : Good Service',\n",
    "]"
   ]
  },
  {
   "cell_type": "markdown",
   "metadata": {},
   "source": [
    "### Sub-Task 1\n",
    "\n",
    "Please complete the lambda expression to filter only the status updates for the lines that run with <i>Delays</i>."
   ]
  },
  {
   "cell_type": "code",
   "execution_count": 2,
   "metadata": {},
   "outputs": [
    {
     "name": "stdout",
     "output_type": "stream",
     "text": [
      "['4,5,6 : Delays', 'G : Delays', 'J,Z : Delays']\n"
     ]
    }
   ],
   "source": [
    "# delayUpdates = filter(lambda x: <YOUR EXPRESSION HERE>, status)\n",
    "delayUpdates = filter(lambda x: 'Delays' in x, status)\n",
    "print(delayUpdates)\n",
    "\n",
    "# After this, your delayUpdates should be\n",
    "# ['4,5,6 : Delays', 'G : Delays', 'J,Z : Delays']"
   ]
  },
  {
   "cell_type": "markdown",
   "metadata": {},
   "source": [
    "### Sub-Task 2\n",
    "\n",
    "Please complete the lambda expression below to convert each status line into a list of subway lines, i.e. <b><i>'4,5,6 : Delays'</i></b> would become <b><i>['4','5','6']</i></b>"
   ]
  },
  {
   "cell_type": "code",
   "execution_count": 3,
   "metadata": {},
   "outputs": [
    {
     "name": "stdout",
     "output_type": "stream",
     "text": [
      "[['4', '5', '6'], ['G'], ['J', 'Z']]\n"
     ]
    }
   ],
   "source": [
    "# delayLineList = map(lambda x: <YOUR EXPRESSION HERE>, delayUpdates)\n",
    "delayLineList = map(lambda x: x.split(' : ')[0].split(','), delayUpdates)\n",
    "print(delayLineList)\n",
    "\n",
    "# After this, your delayLineList should be\n",
    "# [['4', '5', '6'], ['G'], ['J', 'Z']]"
   ]
  },
  {
   "cell_type": "markdown",
   "metadata": {},
   "source": [
    "### Sub-Task 3\n",
    "\n",
    "Please complete the reduce command below to convert each the list of subway lists given in <i>delayLineList</i> into a single list of subway lines running with delay."
   ]
  },
  {
   "cell_type": "code",
   "execution_count": 4,
   "metadata": {},
   "outputs": [
    {
     "name": "stdout",
     "output_type": "stream",
     "text": [
      "['4', '5', '6', 'G', 'J', 'Z']\n"
     ]
    }
   ],
   "source": [
    "# delayLines = reduce(lambda x,y: <YOUR EXPRESSION HERE>, delayLineList, <THE INITIAL VALUE OF YOUR REDUCE>)\n",
    "delayLines = reduce(lambda x,y: x+y, delayLineList)\n",
    "print(delayLines)\n",
    "\n",
    "# After this, your delayLines should be\n",
    "# ['4', '5', '6', 'G', 'J', 'Z']"
   ]
  },
  {
   "cell_type": "markdown",
   "metadata": {},
   "source": [
    "### Sub-Task 4\n",
    "\n",
    "Please complete the reduce command below to count the number of lines in <b>delayLines</b>."
   ]
  },
  {
   "cell_type": "code",
   "execution_count": 5,
   "metadata": {},
   "outputs": [
    {
     "name": "stdout",
     "output_type": "stream",
     "text": [
      "6\n"
     ]
    }
   ],
   "source": [
    "# delayLineCount = reduce(lambda x,y: <YOUR EXPRESSION HERE>, delayLines, <THE INITIAL VALUE OF YOUR REDUCE>)\n",
    "delayLineCount = reduce(lambda x,y: x+1, delayLines, 0)\n",
    "print(delayLineCount)\n",
    "\n",
    "# After this, your delayLineCount should be\n",
    "# 6"
   ]
  },
  {
   "cell_type": "markdown",
   "metadata": {},
   "source": [
    "## Task 2\n",
    "\n",
    "In this excercise, we would like to expand the combined service updatse into separate updates for each subway line. For example, instead of having a single line <b>'1,2,3 : Good Service'</b> to indicate that line 1, 2, and 3 are in good service, we would like to convert that into 3 separate updates: <b>'1 : Good Service'</b>, <b>'2 : Good Service'</b>, and <b>'3 : Good Service'</b>.\n",
    "\n",
    "You are tasked to write a chain of map(), filter(), and/or reduce() to convert the <b>status</b> variable into a list like below:"
   ]
  },
  {
   "cell_type": "raw",
   "metadata": {},
   "source": [
    "['1 : Good Service',\n",
    " '2 : Good Service',\n",
    " '3 : Good Service',\n",
    " '4 : Delays',\n",
    " '5 : Delays',\n",
    " '6 : Delays',\n",
    " '7 : Good Service',\n",
    " 'A : Good Service',\n",
    " 'C : Good Service',\n",
    " 'E : Planned Work',\n",
    " 'G : Delays',\n",
    " 'B : Good Service',\n",
    " 'D : Good Service',\n",
    " 'F : Good Service',\n",
    " 'M : Good Service',\n",
    " 'J : Delays',\n",
    " 'Z : Delays',\n",
    " 'L : Good Service',\n",
    " 'N : Planned Work',\n",
    " 'Q : Planned Work',\n",
    " 'R : Planned Work',\n",
    " 'S : Good Service']"
   ]
  },
  {
   "cell_type": "markdown",
   "metadata": {},
   "source": [
    "Please note that you may only use higher order functions without access to global variables. Your expression should contain only map(), filter() and/or reduce() and your custom function definitions."
   ]
  },
  {
   "cell_type": "code",
   "execution_count": 6,
   "metadata": {},
   "outputs": [],
   "source": [
    "# <ANY FUNCTION TO BE USED IN YOUR HOF>\n",
    "# updates = <YOUR HOF EXPRESSION> \n",
    "\n",
    "def mymap(x):\n",
    "    a = x.split(' : ')\n",
    "    return zip(a[0].split(','), [a[1]]*len(a[0]))\n",
    "\n",
    "updates = map(lambda x: ' : '.join(x), \n",
    "              reduce(lambda x,y: x+y, map(mymap, status), []))\n",
    "\n",
    "# The expected value of updates is the list shown above"
   ]
  },
  {
   "cell_type": "code",
   "execution_count": 7,
   "metadata": {},
   "outputs": [
    {
     "data": {
      "text/plain": [
       "[('1', 'Good Service'),\n",
       " ('2', 'Good Service'),\n",
       " ('3', 'Good Service'),\n",
       " ('4', 'Delays'),\n",
       " ('5', 'Delays'),\n",
       " ('6', 'Delays'),\n",
       " ('7', 'Good Service'),\n",
       " ('A', 'Good Service'),\n",
       " ('C', 'Good Service'),\n",
       " ('E', 'Planned Work'),\n",
       " ('G', 'Delays'),\n",
       " ('B', 'Good Service'),\n",
       " ('D', 'Good Service'),\n",
       " ('F', 'Good Service'),\n",
       " ('M', 'Good Service'),\n",
       " ('J', 'Delays'),\n",
       " ('Z', 'Delays'),\n",
       " ('L', 'Good Service'),\n",
       " ('N', 'Planned Work'),\n",
       " ('Q', 'Planned Work'),\n",
       " ('R', 'Planned Work'),\n",
       " ('S', 'Good Service')]"
      ]
     },
     "execution_count": 7,
     "metadata": {},
     "output_type": "execute_result"
    }
   ],
   "source": [
    "reduce(lambda x,y: x+y, map(mymap, status), [])"
   ]
  },
  {
   "cell_type": "code",
   "execution_count": 8,
   "metadata": {},
   "outputs": [
    {
     "data": {
      "text/plain": [
       "['1 : Good Service',\n",
       " '2 : Good Service',\n",
       " '3 : Good Service',\n",
       " '4 : Delays',\n",
       " '5 : Delays',\n",
       " '6 : Delays',\n",
       " '7 : Good Service',\n",
       " 'A : Good Service',\n",
       " 'C : Good Service',\n",
       " 'E : Planned Work',\n",
       " 'G : Delays',\n",
       " 'B : Good Service',\n",
       " 'D : Good Service',\n",
       " 'F : Good Service',\n",
       " 'M : Good Service',\n",
       " 'J : Delays',\n",
       " 'Z : Delays',\n",
       " 'L : Good Service',\n",
       " 'N : Planned Work',\n",
       " 'Q : Planned Work',\n",
       " 'R : Planned Work',\n",
       " 'S : Good Service']"
      ]
     },
     "execution_count": 8,
     "metadata": {},
     "output_type": "execute_result"
    }
   ],
   "source": [
    "updates"
   ]
  },
  {
   "cell_type": "markdown",
   "metadata": {
    "collapsed": true
   },
   "source": [
    "## Task 3\n",
    "\n",
    "In this excercise, you are tasked to perform a similar task as in Task 2 of Lab 2b: extracting the birth year of the first 'Subscriber' ride of the day from the *citibike.csv*. However, instead of iterating through the stream using generators, you are asked to complete the task using higher order functions map(), filter() and/or reduce(). You are free to define additional functions to be used in your higher order functions, however, you are not allowed to use global variables within these functions without being passed in as arguments."
   ]
  },
  {
   "cell_type": "code",
   "execution_count": 9,
   "metadata": {},
   "outputs": [
    {
     "name": "stdout",
     "output_type": "stream",
     "text": [
      "[('2015-02-01', 1978), ('2015-02-02', 1992), ('2015-02-03', 1982), ('2015-02-04', 1969), ('2015-02-05', 1971), ('2015-02-06', 1989), ('2015-02-07', 1963)]\n"
     ]
    }
   ],
   "source": [
    "# <ANY FUNCTION TO BE USED IN YOUR HOF>\n",
    "# with open('citibike.csv','r') as fi:\n",
    "#     reader = csv.DictReader(fi)\n",
    "#     first_birth_years = <YOUR HOF EXPRESSION>\n",
    "\n",
    "import csv\n",
    "\n",
    "def reducer(accum, current):\n",
    "    if current['usertype']=='Subscriber':\n",
    "        day = current['starttime'].split(' ')[0]\n",
    "        if len(accum)==0 or accum[-1][0]!=day:\n",
    "            return accum + [(day, int(current['birth_year']))]\n",
    "    return accum     \n",
    "\n",
    "with open('citibike.csv', 'r') as fi:\n",
    "    reader = csv.DictReader(fi)\n",
    "    print(reduce(reducer, reader, []))\n",
    "\n",
    "    #first_birth_years = map(lambda x: x[1], reduce(reducer, reader, []))\n",
    "    #print first_birth_years\n",
    "\n",
    "# After this, your first_birth_years should be\n",
    "# [1978, 1992, 1982, 1969, 1971, 1989, 1963]"
   ]
  },
  {
   "cell_type": "code",
   "execution_count": 10,
   "metadata": {},
   "outputs": [
    {
     "name": "stdout",
     "output_type": "stream",
     "text": [
      "[1978, 1992, 1982, 1969, 1971, 1989, 1963]\n"
     ]
    }
   ],
   "source": [
    "def reducer(accum, current):\n",
    "    if current['usertype']=='Subscriber':\n",
    "        day = current['starttime'].split(' ')[0]\n",
    "        if day!=accum[0]:\n",
    "            return (day, accum[1] + [int(current['birth_year'])])\n",
    "    return accum\n",
    "    \n",
    "with open('citibike.csv', 'r') as fi:\n",
    "    reader = csv.DictReader(fi)\n",
    "    first_birth_years = reduce(lambda x,y: y, reduce(reducer, reader, (None, [])))\n",
    "    print(first_birth_years)\n",
    "    "
   ]
  },
  {
   "cell_type": "code",
   "execution_count": null,
   "metadata": {},
   "outputs": [],
   "source": []
  }
 ],
 "metadata": {
  "kernelspec": {
   "display_name": "Python 2",
   "language": "python",
   "name": "python2"
  },
  "language_info": {
   "codemirror_mode": {
    "name": "ipython",
    "version": 2
   },
   "file_extension": ".py",
   "mimetype": "text/x-python",
   "name": "python",
   "nbconvert_exporter": "python",
   "pygments_lexer": "ipython2",
   "version": "2.7.13"
  }
 },
 "nbformat": 4,
 "nbformat_minor": 1
}
