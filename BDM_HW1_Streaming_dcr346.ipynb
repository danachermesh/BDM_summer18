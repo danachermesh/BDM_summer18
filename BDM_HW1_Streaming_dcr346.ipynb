{
 "cells": [
  {
   "cell_type": "markdown",
   "metadata": {},
   "source": [
    "# Homework 1 - Streaming (10 pts)\n",
    "\n",
    "### DUE: 06/26/2018 before class at 2:00pm\n",
    "\n",
    "This homework is for practicing Python’s *generators* and the design of *streaming* algorithms in general. We’re going to use the **taxi_events.csv** and **taxi_trips.csv** data sets. Both of them are available on NYU Classes under *Data Sets* section. You are required to turn in this notebook with all the parts filled in place of <###>. Your notebook must be named BDM\\_HW1\\_Streaming_NetID.ipynb."
   ]
  },
  {
   "cell_type": "markdown",
   "metadata": {},
   "source": [
    "## Task 1 (5 points)\n",
    "\n",
    "Your task is to **compute the maximum number of active taxi cabs** that were hired at any point in time. This the same as computing the maximum number of taxi cabs that have passengers. The input data set is **taxi_events.csv**, which logged all pick-up and drop-off events for all taxi trips. The description of the fields in this file is as follows:\n",
    "\n",
    "|Column name|Description|\n",
    "|--|--|\n",
    "|time |The timestamp of the event. All events are sorted increasingly by their timestamps. |\n",
    "|vehicle_id |The unique ID of the taxi vehicle involved in this event. |\n",
    "|event |A string of either *\"pickup\"* or *\"dropoff\"* for describing the drop-off or pick-up event, respectively. |\n",
    "\n",
    "For example, let's assume that on *Feb-01-2015*, there was a taxi that picked up a passenger at midnight and dropped her off at 14 minutes past midnight. If the taxi cab has the Vehicle ID of *V102*, then you should see two events being logged in this data set as:\n",
    "\n",
    "<pre>\n",
    "...\n",
    "2015-02-01 00:00:00+00,V102,pickup\n",
    "...\n",
    "2015-02-01 00:14:00+00,V102,dropoff\n",
    "...\n",
    "</pre>\n",
    "\n",
    "You are given the above data set in a streaming fashion (reading in row by row), and must design a streaming algorithm that uses the least possible additional memory to compute the maximum number of hired taxi cabs at any point in time. Again, this is equivalent to having a virtual dispatcher, who repeatedly ask every second *\"how many taxis are being hired (having passengers) at the moment?\"*, and then log the maximum number during the entire period.\n",
    "\n",
    "Please modify the code snippet below to complete this task. Your code should only output a single number, which is the maximum number of hired taxi cabs. Of course, you can add additional initialization codes outside of the for loop as needed. Additional, please provide a brief rationale and/or justification for your design after the code."
   ]
  },
  {
   "cell_type": "code",
   "execution_count": 1,
   "metadata": {},
   "outputs": [
    {
     "name": "stdout",
     "output_type": "stream",
     "text": [
      "250\n"
     ]
    }
   ],
   "source": [
    "import csv\n",
    "\n",
    "def csvRows(filename):\n",
    "    with open(filename, 'r') as fi:\n",
    "        reader = csv.DictReader(fi)\n",
    "        for row in reader:\n",
    "            yield row\n",
    "\n",
    "hiredCabs = 0\n",
    "maxHiredCabs = 0\n",
    "for row in csvRows('taxi_events.csv'):\n",
    "    if row['event']=='pickup':\n",
    "        hiredCabs += 1\n",
    "        if maxHiredCabs<hiredCabs:\n",
    "            maxHiredCabs = hiredCabs\n",
    "    else:\n",
    "        hiredCabs -= 1\n",
    "    \n",
    "print(maxHiredCabs)"
   ]
  },
  {
   "cell_type": "code",
   "execution_count": 2,
   "metadata": {},
   "outputs": [],
   "source": [
    "a = csvRows('taxi_events.csv')"
   ]
  },
  {
   "cell_type": "code",
   "execution_count": 3,
   "metadata": {
    "scrolled": true
   },
   "outputs": [
    {
     "data": {
      "text/plain": [
       "OrderedDict([('time', '2015-02-01 00:00:00+00'),\n",
       "             ('vehicle_id', 'V17131'),\n",
       "             ('event', 'pickup')])"
      ]
     },
     "execution_count": 3,
     "metadata": {},
     "output_type": "execute_result"
    }
   ],
   "source": [
    "next(a)"
   ]
  },
  {
   "cell_type": "markdown",
   "metadata": {},
   "source": [
    "#### RATIONALE AND JUSTIFICATION\n",
    "\n",
    "The **csvRows** function defines the generator that reaches each row in the .csv file and reads it, without storing all the data in the file (and therefore minimize the amount of memory usage).\n",
    "\n",
    "We created two numbers, initially equal to 0: **_hiredCabs_** and **_maxHiredCabs_**; the for loop **adds or substract 1 taxi** from the **_hiredCabs_** number according to _pickup_ or _dropoff_, respectively. If the event is _pickup_, the **maximum number of hired cabs** is being checked - whether the current number of hired cabs had exceeded it. If so, this new-highest number is assigned to the **_maxHiredCabs_** number."
   ]
  },
  {
   "cell_type": "markdown",
   "metadata": {},
   "source": [
    "----\n",
    "## Task 2 (5 points)\n",
    "\n",
    "The objective of this task is identical to Task 1's but you are asked to use the full **taxi_trips.csv** data set instead of the events. The main difference (and challenge) is that both pick-up and drop-off event for each trip is now presented in a single record, thus, the drop-off events are not sorted by their timestamps. You are again asked to do this in a streaming fashion that needs to minimize the amount of memory usage. Please modify the code below accordingly, and also with a brief explaination of the solution.\n",
    "\n",
    "Below is the description of the **taxi_trips.csv** file, which is sorted only by the pick-up time:\n",
    "\n",
    "|Column name|Description|\n",
    "|--|--|\n",
    "|trip_duration |The duration of the trip in seconds. This field is for your convenience since it can be derived also from the pick-up and drop-off times. |\n",
    "|pickup_time |The timestamp of the pick-up of the trip. All trip records are sorted increasingly by their pick-up times. |\n",
    "|dropoff_time |The timestamp of the drop-off event. |\n",
    "|vehicle_id |The unique ID of the taxi vehicle involved in this trip record. |\n",
    "\n"
   ]
  },
  {
   "cell_type": "code",
   "execution_count": 4,
   "metadata": {},
   "outputs": [
    {
     "name": "stdout",
     "output_type": "stream",
     "text": [
      "250\n"
     ]
    }
   ],
   "source": [
    "import csv\n",
    "import dateutil \n",
    "import pytz\n",
    "\n",
    "\n",
    "def csvRows(filename):\n",
    "    with open(filename, 'r') as fi:\n",
    "        reader = csv.DictReader(fi)\n",
    "        for row in reader:\n",
    "            yield row\n",
    "\n",
    "nextDropOffs = []\n",
    "maxHiredCabs = 0\n",
    "\n",
    "for row in csvRows('taxi_trips.csv'):\n",
    "    pickup = dateutil.parser.parse(row['pickup_time'])\n",
    "    dropOff = dateutil.parser.parse(row['dropoff_time'])\n",
    "    nextDropOffs.append(dropOff)\n",
    "    \n",
    "    nextDropOffs = [i for i in nextDropOffs if i > pickup]\n",
    "        \n",
    "    if maxHiredCabs < len(nextDropOffs):\n",
    "        maxHiredCabs = len(nextDropOffs)\n",
    "\n",
    "\n",
    "print(maxHiredCabs)"
   ]
  },
  {
   "cell_type": "markdown",
   "metadata": {},
   "source": [
    "#### RATIONALE AND JUSTIFICATION\n",
    "\n",
    "**csvRows** function  - _as in Task 1_.\n",
    "\n",
    "This time, all entries have both the _pickup time_ and _dropoff time_, meaning the events of pickups and dropoffs are necessarily not aranged by their order of occurence. Therefore, our task is to check, for each row that is being read in, whether its _pickup time_ happened before of after former cabs' dropoffs. Also, all future dropoffs (meaning all the **dropoffs of active cabs only** for a curtain time) should be stored, but **not after a new cab's _pickup time_ passes it**\n",
    "\n",
    "In order to efficiently compute the above, I create again the **_maxHiredCabs_** number, initially equal to 0; I also created an empty list of **nextDropOffs** for storing the **active cabs' dropoffs**. The code creates for each entry its _pickup time_ and _dropoff time_ a _datetime variable_, and as a first step stores the new cab's _dropoff time_ to the **nextDropOffs** list. Then the list is redesigned to include only dropoffs that are later then the current entry's pickup time. Here the length of the **nextDropOffs** list at any time is the same as was the **_hiredCabs_** variable at Task 1, thus the **maximum number of hired cabs** is being checked against the length of the list and if it is lower than it, this length is assigned to the **_maxHiredCabs_** number."
   ]
  }
 ],
 "metadata": {
  "kernelspec": {
   "display_name": "Python 3",
   "language": "python",
   "name": "python3"
  },
  "language_info": {
   "codemirror_mode": {
    "name": "ipython",
    "version": 3
   },
   "file_extension": ".py",
   "mimetype": "text/x-python",
   "name": "python",
   "nbconvert_exporter": "python",
   "pygments_lexer": "ipython3",
   "version": "3.5.5"
  }
 },
 "nbformat": 4,
 "nbformat_minor": 1
}
